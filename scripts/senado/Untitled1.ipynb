{
 "cells": [
  {
   "cell_type": "code",
   "execution_count": 81,
   "metadata": {
    "collapsed": true
   },
   "outputs": [],
   "source": [
    "import requests\n",
    "import os\n",
    "import datetime\n",
    "import psycopg2\n",
    "import time\n",
    "import sys\n",
    "import urllib2\n",
    "import xml.etree.ElementTree as ET"
   ]
  },
  {
   "cell_type": "code",
   "execution_count": 59,
   "metadata": {
    "collapsed": false
   },
   "outputs": [],
   "source": [
    "def connect():\n",
    "    print('conn')\n",
    "    conn = psycopg2.connect(\n",
    "        host='localhost', port=5432, database='joaoc',\n",
    "        user='joaoc', password='')\n",
    "    return conn"
   ]
  },
  {
   "cell_type": "code",
   "execution_count": 60,
   "metadata": {
    "collapsed": false
   },
   "outputs": [
    {
     "name": "stdout",
     "output_type": "stream",
     "text": [
      "conn\n"
     ]
    }
   ],
   "source": [
    "# Connect\n",
    "conn = connect()\n",
    "cursor = conn.cursor()\n",
    "\n",
    "sql = \"set datestyle to SQL,DMY;\"\n",
    "cursor.execute(sql)"
   ]
  },
  {
   "cell_type": "code",
   "execution_count": 160,
   "metadata": {
    "collapsed": false
   },
   "outputs": [],
   "source": [
    "def get_last_materia():\n",
    "    today = datetime.date.today()\n",
    "    \n",
    "    xml = requests.get('http://legis.senado.leg.br/dadosabertos/materia/pesquisa/lista?ano={}'.format(today.year))\n",
    "    root = ET.fromstring(xml.content)\n",
    "    ultimo = -1\n",
    "    for i, cod in enumerate(root.iter('CodigoMateria')):\n",
    "        if i == 0:\n",
    "            ultimo = cod.text\n",
    "        if cod.text > ultimo:\n",
    "            ultimo = cod.text\n",
    "    return ultimo"
   ]
  },
  {
   "cell_type": "code",
   "execution_count": 165,
   "metadata": {
    "collapsed": false
   },
   "outputs": [],
   "source": [
    "def check_response(ultima_especie_legislativa):\n",
    "\n",
    "    for i in range(ultima_especie_legislativa):\n",
    "        if i%10 == 0:\n",
    "            print(i)\n",
    "       \n",
    "        if not requests.get('http://legis.senado.leg.br/dadosabertos/materia/{}'.format(i)).ok:\n",
    "            print(i)\n",
    "            \n",
    "check_response(int(get_last_materia()))"
   ]
  },
  {
   "cell_type": "code",
   "execution_count": null,
   "metadata": {
    "collapsed": false
   },
   "outputs": [],
   "source": [
    "import gevent\n",
    "\n",
    "def get_xml(url):\n",
    "    return requests.get(url).ok\n",
    "    \n",
    "jobs = [gevent.spawn(get_xml, 'http://legis.senado.leg.br/dadosabertos/materia/{}'.format(i)) for i in range(10)]\n",
    "\n",
    "gevent.wait(jobs)"
   ]
  },
  {
   "cell_type": "code",
   "execution_count": 172,
   "metadata": {
    "collapsed": false
   },
   "outputs": [
    {
     "data": {
      "text/plain": [
       "2"
      ]
     },
     "execution_count": 172,
     "metadata": {},
     "output_type": "execute_result"
    }
   ],
   "source": [
    "1+1\n"
   ]
  },
  {
   "cell_type": "code",
   "execution_count": 176,
   "metadata": {
    "collapsed": false
   },
   "outputs": [
    {
     "name": "stdout",
     "output_type": "stream",
     "text": [
      "2\n"
     ]
    }
   ],
   "source": [
    "for i in range(15):\n",
    "    if i == 2:\n",
    "        print(i)\n",
    "    if i == 17:\n",
    "        print('bruna')"
   ]
  },
  {
   "cell_type": "code",
   "execution_count": null,
   "metadata": {
    "collapsed": true
   },
   "outputs": [],
   "source": []
  }
 ],
 "metadata": {
  "anaconda-cloud": {},
  "kernelspec": {
   "display_name": "Python [default]",
   "language": "python",
   "name": "python2"
  },
  "language_info": {
   "codemirror_mode": {
    "name": "ipython",
    "version": 2
   },
   "file_extension": ".py",
   "mimetype": "text/x-python",
   "name": "python",
   "nbconvert_exporter": "python",
   "pygments_lexer": "ipython2",
   "version": "2.7.12"
  }
 },
 "nbformat": 4,
 "nbformat_minor": 1
}
