{
 "cells": [
  {
   "cell_type": "code",
   "execution_count": null,
   "metadata": {
    "collapsed": false
   },
   "outputs": [],
   "source": [
    "import gevent.monkey\n",
    "from requets\n",
    "gevent.monkey.patch_all()\n",
    "urls = ['http://www.google.com', 'http://www.yandex.ru', 'http://www.python.org']\n",
    "\n",
    "def fetch(url):\n",
    "    print('Starting {}'.format(url))\n",
    "    data = requests.get(url).text\n",
    "    print('{}: {} bytes: {}'.format(url, len(data), data))\n",
    "\n",
    "jobs = [gevent.spawn(print_head, _url) for _url in urls]\n",
    "\n",
    "gevent.wait(jobs)"
   ]
  },
  {
   "cell_type": "code",
   "execution_count": null,
   "metadata": {
    "collapsed": true
   },
   "outputs": [],
   "source": [
    "?gevent.wait()"
   ]
  },
  {
   "cell_type": "code",
   "execution_count": null,
   "metadata": {
    "collapsed": true
   },
   "outputs": [],
   "source": []
  }
 ],
 "metadata": {
  "anaconda-cloud": {},
  "kernelspec": {
   "display_name": "Python 3",
   "language": "python",
   "name": "python3"
  },
  "language_info": {
   "codemirror_mode": {
    "name": "ipython",
    "version": 3
   },
   "file_extension": ".py",
   "mimetype": "text/x-python",
   "name": "python",
   "nbconvert_exporter": "python",
   "pygments_lexer": "ipython3",
   "version": "3.5.2"
  }
 },
 "nbformat": 4,
 "nbformat_minor": 1
}
